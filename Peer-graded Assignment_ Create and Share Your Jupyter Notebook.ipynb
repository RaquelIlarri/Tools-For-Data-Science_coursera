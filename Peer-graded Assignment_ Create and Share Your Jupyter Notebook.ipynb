{
  "metadata": {
    "language_info": {
      "codemirror_mode": {
        "name": "python",
        "version": 3
      },
      "file_extension": ".py",
      "mimetype": "text/x-python",
      "name": "python",
      "nbconvert_exporter": "python",
      "pygments_lexer": "ipython3",
      "version": "3.8"
    },
    "kernelspec": {
      "name": "python",
      "display_name": "Pyolite",
      "language": "python"
    }
  },
  "nbformat_minor": 4,
  "nbformat": 4,
  "cells": [
    {
      "cell_type": "markdown",
      "source": "## **My Jupyter Notebook on IBM Watson Studio**\n",
      "metadata": {}
    },
    {
      "cell_type": "markdown",
      "source": "# **Raquel Ilarri**\n\nFinance Controller",
      "metadata": {}
    },
    {
      "cell_type": "markdown",
      "source": "*I am interested in studying data science because I love to study data and gain insights from it. It is really important for my professional development, and above all, I think that it is really interesting!* \n",
      "metadata": {}
    },
    {
      "cell_type": "markdown",
      "source": "# Función básica de suma\n",
      "metadata": {}
    },
    {
      "cell_type": "code",
      "source": "1+1",
      "metadata": {
        "trusted": true
      },
      "execution_count": 4,
      "outputs": [
        {
          "execution_count": 4,
          "output_type": "execute_result",
          "data": {
            "text/plain": "2"
          },
          "metadata": {}
        }
      ]
    },
    {
      "cell_type": "markdown",
      "source": "* 1\n* 2\n* 3\n* 4\n* 5",
      "metadata": {}
    },
    {
      "cell_type": "code",
      "source": "",
      "metadata": {},
      "execution_count": null,
      "outputs": []
    }
  ]
}